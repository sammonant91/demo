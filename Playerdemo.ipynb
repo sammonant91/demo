{
 "cells": [
  {
   "cell_type": "code",
   "execution_count": 71,
   "metadata": {},
   "outputs": [],
   "source": [
    "#sc"
   ]
  },
  {
   "cell_type": "code",
   "execution_count": 80,
   "metadata": {},
   "outputs": [],
   "source": [
    "#from pyspark.sql import SparkSession\n",
    "from pyspark.sql.functions import udf"
   ]
  },
  {
   "cell_type": "code",
   "execution_count": 6,
   "metadata": {},
   "outputs": [],
   "source": [
    "#sc= SparkSession.builder.appName('MyfirstProgram').getOrCreate()"
   ]
  },
  {
   "cell_type": "code",
   "execution_count": 36,
   "metadata": {},
   "outputs": [],
   "source": [
    "player=sc.read.format('csv').option(\"header\",\"true\").load('player.csv')"
   ]
  },
  {
   "cell_type": "code",
   "execution_count": 37,
   "metadata": {},
   "outputs": [
    {
     "data": {
      "text/plain": [
       "DataFrame[id: string, player_api_id: string, player_name: string, player_fifa_api_id: string, birthday: string, height: string, weight: string]"
      ]
     },
     "execution_count": 37,
     "metadata": {},
     "output_type": "execute_result"
    }
   ],
   "source": [
    "player"
   ]
  },
  {
   "cell_type": "code",
   "execution_count": 81,
   "metadata": {},
   "outputs": [],
   "source": [
    "#player.printSchema()"
   ]
  },
  {
   "cell_type": "code",
   "execution_count": 56,
   "metadata": {},
   "outputs": [
    {
     "data": {
      "text/plain": [
       "StructType(List(StructField(id,StringType,true),StructField(player_api_id,StringType,true),StructField(player_name,StringType,true),StructField(player_fifa_api_id,StringType,true),StructField(birthday,StringType,true),StructField(height,StringType,true),StructField(weight,StringType,true)))"
      ]
     },
     "execution_count": 56,
     "metadata": {},
     "output_type": "execute_result"
    }
   ],
   "source": [
    "player.schema\n",
    "#player.show(5)\n",
    "#player.select('player_name').filter(player_name=='Aaron Doran').collect()"
   ]
  },
  {
   "cell_type": "code",
   "execution_count": 45,
   "metadata": {},
   "outputs": [
    {
     "data": {
      "text/plain": [
       "11060"
      ]
     },
     "execution_count": 45,
     "metadata": {},
     "output_type": "execute_result"
    }
   ],
   "source": [
    "player.count()"
   ]
  },
  {
   "cell_type": "code",
   "execution_count": 74,
   "metadata": {},
   "outputs": [
    {
     "name": "stdout",
     "output_type": "stream",
     "text": [
      "+-------------+------------------+-------------------+------+------+\n",
      "|player_api_id|       player_name|           birthday|height|weight|\n",
      "+-------------+------------------+-------------------+------+------+\n",
      "|       505942|Aaron Appindangoye|1992-02-29 00:00:00|182.88|   187|\n",
      "|       155782|   Aaron Cresswell|1989-12-15 00:00:00|170.18|   146|\n",
      "|       162549|       Aaron Doran|1991-05-13 00:00:00|170.18|   163|\n",
      "|        30572|     Aaron Galindo|1982-05-08 00:00:00|182.88|   198|\n",
      "|        23780|      Aaron Hughes|1979-11-08 00:00:00|182.88|   154|\n",
      "+-------------+------------------+-------------------+------+------+\n",
      "only showing top 5 rows\n",
      "\n"
     ]
    }
   ],
   "source": [
    "#player.select('id','player_api_id','player_name','height').show(5)\n",
    "players=player.drop('id','player_fifa_api_id')\n",
    "players.show(5)"
   ]
  },
  {
   "cell_type": "code",
   "execution_count": 82,
   "metadata": {},
   "outputs": [],
   "source": [
    "#player_attributes=sc.read.format('csv').option(\"header\",\"true\").load('player_attributes.csv')\n",
    "#player_attributes.select('id','player_api_id','potential').show(1)\n",
    "#player_att=player_attributes.drop('id','player_fifa_api_id','preferred_foot','attacking_work_rate','attacking_work_rate','crossing','jumping','sprint_speed','balance','aggression','interceptions','short_passing','potential')\n",
    "#player_att.printSchema()"
   ]
  },
  {
   "cell_type": "code",
   "execution_count": 103,
   "metadata": {},
   "outputs": [],
   "source": [
    "#player_attributes.printSchema()  \n",
    "#player_attributes.columns"
   ]
  },
  {
   "cell_type": "code",
   "execution_count": 79,
   "metadata": {},
   "outputs": [
    {
     "data": {
      "text/plain": [
       "DataFrame[player_api_id: string, player_name: string, birthday: string, height: string, weight: string]"
      ]
     },
     "execution_count": 79,
     "metadata": {},
     "output_type": "execute_result"
    }
   ],
   "source": [
    "#players\n",
    "#pop= player.join(player_attributes,player.player_api_id==player_attributes.player_api_id )"
   ]
  },
  {
   "cell_type": "code",
   "execution_count": 115,
   "metadata": {},
   "outputs": [],
   "source": [
    "#year_extract_date= udf(lambda data:date.split('-')[0])\n",
    "#player_attributes=player_attributes.withColumn('year',year_extract_date(player_attributes.date))"
   ]
  },
  {
   "cell_type": "code",
   "execution_count": 1,
   "metadata": {},
   "outputs": [],
   "source": [
    "#player_attributes.columns"
   ]
  },
  {
   "cell_type": "markdown",
   "metadata": {},
   "source": [
    "#player_att.columns\n",
    "#player_att.withColumnRenamed('year','year')"
   ]
  },
  {
   "cell_type": "code",
   "execution_count": 3,
   "metadata": {},
   "outputs": [
    {
     "ename": "NameError",
     "evalue": "name 'player_attributes' is not defined",
     "output_type": "error",
     "traceback": [
      "\u001b[1;31m---------------------------------------------------------------------------\u001b[0m",
      "\u001b[1;31mNameError\u001b[0m                                 Traceback (most recent call last)",
      "\u001b[1;32m<ipython-input-3-a49cdd905922>\u001b[0m in \u001b[0;36m<module>\u001b[1;34m()\u001b[0m\n\u001b[0;32m      1\u001b[0m \u001b[1;31m#player_2016=player_attributes.filter(player_attributes.year==2016)\u001b[0m\u001b[1;33m\u001b[0m\u001b[1;33m\u001b[0m\u001b[0m\n\u001b[1;32m----> 2\u001b[1;33m \u001b[0mplayer_attributes\u001b[0m\u001b[1;33m.\u001b[0m\u001b[0mselect\u001b[0m\u001b[1;33m(\u001b[0m\u001b[0mplayer_2016\u001b[0m\u001b[1;33m.\u001b[0m\u001b[0mplayer_api_id\u001b[0m\u001b[1;33m)\u001b[0m\u001b[1;33m.\u001b[0m\u001b[0mdistinct\u001b[0m\u001b[1;33m(\u001b[0m\u001b[1;33m)\u001b[0m\u001b[1;33m.\u001b[0m\u001b[0mcount\u001b[0m\u001b[1;33m(\u001b[0m\u001b[1;33m)\u001b[0m\u001b[1;33m\u001b[0m\u001b[0m\n\u001b[0m",
      "\u001b[1;31mNameError\u001b[0m: name 'player_attributes' is not defined"
     ]
    }
   ],
   "source": [
    "#player_2016=player_attributes.filter(player_attributes.year==2016)\n",
    "player_attributes.select(player_2016.player_api_id).distinct().count()"
   ]
  },
  {
   "cell_type": "code",
   "execution_count": null,
   "metadata": {},
   "outputs": [],
   "source": [
    "players_att_join= players.join(player_att, players)"
   ]
  },
  {
   "cell_type": "code",
   "execution_count": null,
   "metadata": {},
   "outputs": [],
   "source": []
  }
 ],
 "metadata": {
  "kernelspec": {
   "display_name": "Python 3",
   "language": "python",
   "name": "python3"
  },
  "language_info": {
   "codemirror_mode": {
    "name": "ipython",
    "version": 3
   },
   "file_extension": ".py",
   "mimetype": "text/x-python",
   "name": "python",
   "nbconvert_exporter": "python",
   "pygments_lexer": "ipython3",
   "version": "3.6.4"
  }
 },
 "nbformat": 4,
 "nbformat_minor": 2
}
